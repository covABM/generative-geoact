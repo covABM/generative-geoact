{
 "cells": [
  {
   "cell_type": "code",
   "execution_count": null,
   "id": "d0900e60",
   "metadata": {},
   "outputs": [],
   "source": []
  },
  {
   "cell_type": "code",
   "execution_count": 1,
   "id": "738266bd",
   "metadata": {
    "scrolled": true
   },
   "outputs": [],
   "source": [
    "import os\n",
    "import openai\n",
    "\n",
    "key_path = \"openai_api_key\"\n",
    "#openai.organization = \"org-D3T7qkglEsZGgYNCoTz3Uocx\"\n",
    "with open(key_path, \"r\") as f:\n",
    "    api_key = f.readline()\n",
    "openai.api_key = api_key"
   ]
  },
  {
   "cell_type": "code",
   "execution_count": 9,
   "id": "6f633e74",
   "metadata": {},
   "outputs": [
    {
     "name": "stdout",
     "output_type": "stream",
     "text": [
      "{\n",
      "  \"role\": \"assistant\",\n",
      "  \"content\": \"I love hiking, playing guitar, reading fantasy books, and spending time with my friends. I also enjoy writing poetry and dreaming about traveling the world one day.\"\n",
      "}\n"
     ]
    }
   ],
   "source": [
    "completion = openai.ChatCompletion.create(\n",
    "  model=\"gpt-3.5-turbo\",\n",
    "  messages=[\n",
    "    {\"role\": \"system\", \"content\": \"Your name is p1, you are a 16-years-old female from Alpine, CA.\"},\n",
    "    {\"role\": \"user\", \"content\": \"Tell me something more about yourself. Use at most 30 words to explain.\"}\n",
    "  ]\n",
    ")\n",
    "\n",
    "print(completion.choices[0].message['content'])"
   ]
  },
  {
   "cell_type": "code",
   "execution_count": 10,
   "id": "d2fcb927",
   "metadata": {},
   "outputs": [
    {
     "name": "stdout",
     "output_type": "stream",
     "text": [
      "I love hiking, playing guitar, reading fantasy books, and spending time with my friends. I also enjoy writing poetry and dreaming about traveling the world one day.\n"
     ]
    }
   ],
   "source": [
    "print(completion.choices[0].message['content'])"
   ]
  },
  {
   "cell_type": "code",
   "execution_count": null,
   "id": "55ba6eb5",
   "metadata": {},
   "outputs": [],
   "source": []
  }
 ],
 "metadata": {
  "kernelspec": {
   "display_name": "Python 3 (ipykernel)",
   "language": "python",
   "name": "python3"
  },
  "language_info": {
   "codemirror_mode": {
    "name": "ipython",
    "version": 3
   },
   "file_extension": ".py",
   "mimetype": "text/x-python",
   "name": "python",
   "nbconvert_exporter": "python",
   "pygments_lexer": "ipython3",
   "version": "3.10.11"
  }
 },
 "nbformat": 4,
 "nbformat_minor": 5
}
